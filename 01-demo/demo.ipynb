{
  "cells": [
    {
      "cell_type": "markdown",
      "metadata": {
        "id": "9uMCYVKJjPvu"
      },
      "source": [
        "## Instalar librerías de OpenAI\n",
        "\n"
      ]
    },
    {
      "cell_type": "code",
      "execution_count": 1,
      "metadata": {
        "colab": {
          "base_uri": "https://localhost:8080/"
        },
        "id": "P-zwuN4yisxd",
        "outputId": "d593b577-2b96-408e-8265-5684a5961e25"
      },
      "outputs": [
        {
          "name": "stdout",
          "output_type": "stream",
          "text": [
            "Requirement already satisfied: openai==0.28 in /home/sflores/Develop/Learning/AI/LLMs/chatbots_chatgpt/.venv/lib/python3.10/site-packages (0.28.0)\n",
            "Requirement already satisfied: requests>=2.20 in /home/sflores/Develop/Learning/AI/LLMs/chatbots_chatgpt/.venv/lib/python3.10/site-packages (from openai==0.28) (2.31.0)\n",
            "Requirement already satisfied: tqdm in /home/sflores/Develop/Learning/AI/LLMs/chatbots_chatgpt/.venv/lib/python3.10/site-packages (from openai==0.28) (4.66.1)\n",
            "Requirement already satisfied: aiohttp in /home/sflores/Develop/Learning/AI/LLMs/chatbots_chatgpt/.venv/lib/python3.10/site-packages (from openai==0.28) (3.8.6)\n",
            "Requirement already satisfied: charset-normalizer<4,>=2 in /home/sflores/Develop/Learning/AI/LLMs/chatbots_chatgpt/.venv/lib/python3.10/site-packages (from requests>=2.20->openai==0.28) (3.3.2)\n",
            "Requirement already satisfied: idna<4,>=2.5 in /home/sflores/Develop/Learning/AI/LLMs/chatbots_chatgpt/.venv/lib/python3.10/site-packages (from requests>=2.20->openai==0.28) (3.4)\n",
            "Requirement already satisfied: urllib3<3,>=1.21.1 in /home/sflores/Develop/Learning/AI/LLMs/chatbots_chatgpt/.venv/lib/python3.10/site-packages (from requests>=2.20->openai==0.28) (2.0.7)\n",
            "Requirement already satisfied: certifi>=2017.4.17 in /home/sflores/Develop/Learning/AI/LLMs/chatbots_chatgpt/.venv/lib/python3.10/site-packages (from requests>=2.20->openai==0.28) (2023.7.22)\n",
            "Requirement already satisfied: attrs>=17.3.0 in /home/sflores/Develop/Learning/AI/LLMs/chatbots_chatgpt/.venv/lib/python3.10/site-packages (from aiohttp->openai==0.28) (23.1.0)\n",
            "Requirement already satisfied: multidict<7.0,>=4.5 in /home/sflores/Develop/Learning/AI/LLMs/chatbots_chatgpt/.venv/lib/python3.10/site-packages (from aiohttp->openai==0.28) (6.0.4)\n",
            "Requirement already satisfied: async-timeout<5.0,>=4.0.0a3 in /home/sflores/Develop/Learning/AI/LLMs/chatbots_chatgpt/.venv/lib/python3.10/site-packages (from aiohttp->openai==0.28) (4.0.3)\n",
            "Requirement already satisfied: yarl<2.0,>=1.0 in /home/sflores/Develop/Learning/AI/LLMs/chatbots_chatgpt/.venv/lib/python3.10/site-packages (from aiohttp->openai==0.28) (1.9.2)\n",
            "Requirement already satisfied: frozenlist>=1.1.1 in /home/sflores/Develop/Learning/AI/LLMs/chatbots_chatgpt/.venv/lib/python3.10/site-packages (from aiohttp->openai==0.28) (1.4.0)\n",
            "Requirement already satisfied: aiosignal>=1.1.2 in /home/sflores/Develop/Learning/AI/LLMs/chatbots_chatgpt/.venv/lib/python3.10/site-packages (from aiohttp->openai==0.28) (1.3.1)\n",
            "Note: you may need to restart the kernel to use updated packages.\n"
          ]
        }
      ],
      "source": [
        "pip install openai==0.28"
      ]
    },
    {
      "cell_type": "markdown",
      "metadata": {
        "id": "J3STSyP1jefC"
      },
      "source": [
        "## Importar librerías"
      ]
    },
    {
      "cell_type": "code",
      "execution_count": 2,
      "metadata": {
        "id": "Ymqaar65jta2"
      },
      "outputs": [],
      "source": [
        "import os\n",
        "import openai"
      ]
    },
    {
      "cell_type": "markdown",
      "metadata": {
        "id": "cRuyfsokj-fz"
      },
      "source": [
        "## Cargar API Key de OpenAI"
      ]
    },
    {
      "cell_type": "code",
      "execution_count": 3,
      "metadata": {
        "id": "R1vLGXFtkDUe"
      },
      "outputs": [],
      "source": [
        "openai.api_key = os.getenv('OPENAI_API_KEY')"
      ]
    },
    {
      "cell_type": "markdown",
      "metadata": {
        "id": "MK0uQjq3o8NG"
      },
      "source": [
        "## Clasificador de Tweets"
      ]
    },
    {
      "cell_type": "code",
      "execution_count": 4,
      "metadata": {
        "id": "BTFnA2iOo_DW"
      },
      "outputs": [],
      "source": [
        "response = openai.Completion.create(\n",
        "    model='text-davinci-003',\n",
        "    prompt='Decide si el sentimiento de un Tweet es positivo, neutral o negativo. \\\n",
        "    \\n\\nTweet: #LoNuevoEnPlatzi es el Platzibot 🤖. Un asistente creado con Inteligencia Artificial para acompañarte en tu proceso de aprendizaje. \\\n",
        "    \\\"\\nSentiment:',\n",
        "    temperature=0, # 0: Restrictive, 2: Laxity\n",
        "    max_tokens=60,\n",
        "    top_p=1, # Percentage of results to visualize\n",
        "    frequency_penalty=0.5,\n",
        "    presence_penalty=0\n",
        ")"
      ]
    },
    {
      "cell_type": "markdown",
      "metadata": {
        "id": "jalaNnLApRqD"
      },
      "source": [
        "## Imprimir respuesta"
      ]
    },
    {
      "cell_type": "code",
      "execution_count": 5,
      "metadata": {
        "colab": {
          "base_uri": "https://localhost:8080/",
          "height": 35
        },
        "id": "nBsNT873pE4U",
        "outputId": "69173d0d-b2a3-4616-f680-820a5f65f5ab"
      },
      "outputs": [
        {
          "data": {
            "text/plain": [
              "' Positivo'"
            ]
          },
          "execution_count": 5,
          "metadata": {},
          "output_type": "execute_result"
        }
      ],
      "source": [
        "response.choices[0].text"
      ]
    }
  ],
  "metadata": {
    "colab": {
      "provenance": []
    },
    "kernelspec": {
      "display_name": "Python 3",
      "name": "python3"
    },
    "language_info": {
      "codemirror_mode": {
        "name": "ipython",
        "version": 3
      },
      "file_extension": ".py",
      "mimetype": "text/x-python",
      "name": "python",
      "nbconvert_exporter": "python",
      "pygments_lexer": "ipython3",
      "version": "3.10.12"
    }
  },
  "nbformat": 4,
  "nbformat_minor": 0
}
