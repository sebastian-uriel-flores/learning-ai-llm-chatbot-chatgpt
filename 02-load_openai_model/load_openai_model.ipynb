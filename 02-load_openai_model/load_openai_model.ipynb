{
  "cells": [
    {
      "cell_type": "code",
      "execution_count": 1,
      "metadata": {
        "id": "JdQcZ96xudTv"
      },
      "outputs": [
        {
          "name": "stdout",
          "output_type": "stream",
          "text": [
            "Requirement already satisfied: openai==0.28 in /home/sflores/Develop/Learning/AI/LLMs/chatbots_chatgpt/.venv/lib/python3.10/site-packages (0.28.0)\n",
            "Requirement already satisfied: requests>=2.20 in /home/sflores/Develop/Learning/AI/LLMs/chatbots_chatgpt/.venv/lib/python3.10/site-packages (from openai==0.28) (2.31.0)\n",
            "Requirement already satisfied: tqdm in /home/sflores/Develop/Learning/AI/LLMs/chatbots_chatgpt/.venv/lib/python3.10/site-packages (from openai==0.28) (4.66.1)\n",
            "Requirement already satisfied: aiohttp in /home/sflores/Develop/Learning/AI/LLMs/chatbots_chatgpt/.venv/lib/python3.10/site-packages (from openai==0.28) (3.8.6)\n",
            "Requirement already satisfied: charset-normalizer<4,>=2 in /home/sflores/Develop/Learning/AI/LLMs/chatbots_chatgpt/.venv/lib/python3.10/site-packages (from requests>=2.20->openai==0.28) (3.3.2)\n",
            "Requirement already satisfied: idna<4,>=2.5 in /home/sflores/Develop/Learning/AI/LLMs/chatbots_chatgpt/.venv/lib/python3.10/site-packages (from requests>=2.20->openai==0.28) (3.4)\n",
            "Requirement already satisfied: urllib3<3,>=1.21.1 in /home/sflores/Develop/Learning/AI/LLMs/chatbots_chatgpt/.venv/lib/python3.10/site-packages (from requests>=2.20->openai==0.28) (2.0.7)\n",
            "Requirement already satisfied: certifi>=2017.4.17 in /home/sflores/Develop/Learning/AI/LLMs/chatbots_chatgpt/.venv/lib/python3.10/site-packages (from requests>=2.20->openai==0.28) (2023.7.22)\n",
            "Requirement already satisfied: attrs>=17.3.0 in /home/sflores/Develop/Learning/AI/LLMs/chatbots_chatgpt/.venv/lib/python3.10/site-packages (from aiohttp->openai==0.28) (23.1.0)\n",
            "Requirement already satisfied: multidict<7.0,>=4.5 in /home/sflores/Develop/Learning/AI/LLMs/chatbots_chatgpt/.venv/lib/python3.10/site-packages (from aiohttp->openai==0.28) (6.0.4)\n",
            "Requirement already satisfied: async-timeout<5.0,>=4.0.0a3 in /home/sflores/Develop/Learning/AI/LLMs/chatbots_chatgpt/.venv/lib/python3.10/site-packages (from aiohttp->openai==0.28) (4.0.3)\n",
            "Requirement already satisfied: yarl<2.0,>=1.0 in /home/sflores/Develop/Learning/AI/LLMs/chatbots_chatgpt/.venv/lib/python3.10/site-packages (from aiohttp->openai==0.28) (1.9.2)\n",
            "Requirement already satisfied: frozenlist>=1.1.1 in /home/sflores/Develop/Learning/AI/LLMs/chatbots_chatgpt/.venv/lib/python3.10/site-packages (from aiohttp->openai==0.28) (1.4.0)\n",
            "Requirement already satisfied: aiosignal>=1.1.2 in /home/sflores/Develop/Learning/AI/LLMs/chatbots_chatgpt/.venv/lib/python3.10/site-packages (from aiohttp->openai==0.28) (1.3.1)\n",
            "Note: you may need to restart the kernel to use updated packages.\n"
          ]
        }
      ],
      "source": [
        "pip install openai==0.28"
      ]
    },
    {
      "cell_type": "code",
      "execution_count": 2,
      "metadata": {
        "id": "jDOGmYEBuNkA"
      },
      "outputs": [],
      "source": [
        "import os\n",
        "import openai"
      ]
    },
    {
      "cell_type": "code",
      "execution_count": 3,
      "metadata": {
        "id": "37KKbUQUuYzt"
      },
      "outputs": [],
      "source": [
        "openai.api_key = os.getenv('OPENAI_API_KEY')"
      ]
    },
    {
      "cell_type": "code",
      "execution_count": 4,
      "metadata": {
        "colab": {
          "base_uri": "https://localhost:8080/"
        },
        "id": "_L47ErBruyaS",
        "outputId": "cb0febd1-fa2b-49b4-ebeb-63f14f26a868"
      },
      "outputs": [
        {
          "name": "stdout",
          "output_type": "stream",
          "text": [
            "\n",
            "\n",
            "El descubrimiento de América fue realizado por Cristóbal Colón (también conocido como Cristóbal Colón) el 12 de octubre de 1492.\n"
          ]
        }
      ],
      "source": [
        "response_davinci = openai.Completion.create(\n",
        "    engine = \"text-davinci-003\",\n",
        "    prompt = \"¿Quien descubrió América?\",\n",
        "    max_tokens = 50\n",
        ")\n",
        "\n",
        "print(response_davinci.choices[0].text)"
      ]
    },
    {
      "cell_type": "code",
      "execution_count": 5,
      "metadata": {
        "colab": {
          "base_uri": "https://localhost:8080/"
        },
        "id": "EApJdCvRwHBI",
        "outputId": "2dcde49b-e48e-4c39-9a96-ddfad8df695d"
      },
      "outputs": [
        {
          "name": "stdout",
          "output_type": "stream",
          "text": [
            "\n",
            "\n",
            "América fue descubierta por el explorador y navegante genovés Cristóbal Colón en 1492 en su viaje desde Europa al Nuevo Mundo, aunque el continente ya estaba habitado por diferentes culturas y\n"
          ]
        }
      ],
      "source": [
        "response_gpt_4 = openai.Completion.create(\n",
        "    engine = \"gpt-3.5-turbo-instruct\",\n",
        "    prompt = \"¿Quien descubrió América?\",\n",
        "    max_tokens = 50\n",
        ")\n",
        "\n",
        "print(response_gpt_4.choices[0].text)"
      ]
    },
    {
      "cell_type": "code",
      "execution_count": 6,
      "metadata": {
        "colab": {
          "base_uri": "https://localhost:8080/"
        },
        "id": "m2d2BkjT3OKd",
        "outputId": "7e8a4b9e-8c39-43d4-820f-52f81525aff6"
      },
      "outputs": [
        {
          "name": "stdout",
          "output_type": "stream",
          "text": [
            "{\n",
            "  \"warning\": \"This model version is deprecated. Migrate before January 4, 2024 to avoid disruption of service. Learn more https://platform.openai.com/docs/deprecations\",\n",
            "  \"id\": \"cmpl-8KCWi9BsfQzVguhkykqXvQdu6KUTF\",\n",
            "  \"object\": \"text_completion\",\n",
            "  \"created\": 1699825404,\n",
            "  \"model\": \"text-davinci-003\",\n",
            "  \"choices\": [\n",
            "    {\n",
            "      \"text\": \"\\n\\nEl descubrimiento de Am\\u00e9rica se atribuye al Almirante Crist\\u00f3bal Col\\u00f3n, que llev\\u00f3 a cabo tres viajes a partir de 1492.\",\n",
            "      \"index\": 0,\n",
            "      \"logprobs\": null,\n",
            "      \"finish_reason\": \"stop\"\n",
            "    },\n",
            "    {\n",
            "      \"text\": \"\\n\\nEl almirante italiano Crist\\u00f3bal Col\\u00f3n descubri\\u00f3 Am\\u00e9rica, aunque hay controversia sobre si fue realmente el primero en llegar. Algunos expertos argumentan\",\n",
            "      \"index\": 1,\n",
            "      \"logprobs\": null,\n",
            "      \"finish_reason\": \"length\"\n",
            "    }\n",
            "  ],\n",
            "  \"usage\": {\n",
            "    \"prompt_tokens\": 12,\n",
            "    \"completion_tokens\": 96,\n",
            "    \"total_tokens\": 108\n",
            "  }\n",
            "}\n"
          ]
        }
      ],
      "source": [
        "response = openai.Completion.create(\n",
        "    engine = \"text-davinci-003\",\n",
        "    prompt = \"¿Quien descubrió América?\",\n",
        "    max_tokens = 50,\n",
        "    temperature = 1,\n",
        "    top_p = 1,\n",
        "    n = 2\n",
        ")\n",
        "\n",
        "print(response)"
      ]
    },
    {
      "cell_type": "code",
      "execution_count": 7,
      "metadata": {
        "colab": {
          "base_uri": "https://localhost:8080/"
        },
        "id": "jFAYEn193oxF",
        "outputId": "80ccf8a5-687e-4d3e-8437-10539ceda547"
      },
      "outputs": [
        {
          "name": "stdout",
          "output_type": "stream",
          "text": [
            "\n",
            "\n",
            "La Inteligencia Artificial (IA) es una rama de la informática que se ocupa del desarrollo de sistemas informáticos capaces de realizar tareas que normalmente requieren inteligencia humana. Estos sistemas pueden aprender, razonar, planificar, comprender lenguaje natural, reconocer patrones y tomar decisiones\n"
          ]
        }
      ],
      "source": [
        "response = openai.Completion.create(\n",
        "    engine = \"text-davinci-003\",\n",
        "    prompt = \"¿Qué es IA?\",\n",
        "    max_tokens = 100,\n",
        "    temperature = 0.3,\n",
        "    top_p = 1,\n",
        "    n = 1\n",
        ")\n",
        "\n",
        "print(response.choices[0].text)"
      ]
    },
    {
      "cell_type": "code",
      "execution_count": 8,
      "metadata": {
        "colab": {
          "base_uri": "https://localhost:8080/"
        },
        "id": "57Zh8yXf3929",
        "outputId": "ec53d89b-9916-4647-e474-a8e8c0371782"
      },
      "outputs": [
        {
          "name": "stdout",
          "output_type": "stream",
          "text": [
            "\n",
            "\n",
            "La Inteligencia Artificial (IA) es una rama de la informática que se ocupa del desarrollo de sistemas informáticos capaces de realizar tareas que, de otro modo, requerirían una inteligencia humana. Esto incluye el análisis de datos, la toma de decisiones, la comprensión de lenguaj\n"
          ]
        }
      ],
      "source": [
        "response = openai.Completion.create(\n",
        "    engine = \"text-davinci-003\",\n",
        "    prompt = \"¿Qué es IA?\",\n",
        "    max_tokens = 100,\n",
        "    temperature = 0.8,\n",
        "    top_p = 1,\n",
        "    n = 1\n",
        ")\n",
        "\n",
        "print(response.choices[0].text)"
      ]
    }
  ],
  "metadata": {
    "colab": {
      "provenance": []
    },
    "kernelspec": {
      "display_name": "Python 3",
      "name": "python3"
    },
    "language_info": {
      "codemirror_mode": {
        "name": "ipython",
        "version": 3
      },
      "file_extension": ".py",
      "mimetype": "text/x-python",
      "name": "python",
      "nbconvert_exporter": "python",
      "pygments_lexer": "ipython3",
      "version": "3.10.12"
    }
  },
  "nbformat": 4,
  "nbformat_minor": 0
}
