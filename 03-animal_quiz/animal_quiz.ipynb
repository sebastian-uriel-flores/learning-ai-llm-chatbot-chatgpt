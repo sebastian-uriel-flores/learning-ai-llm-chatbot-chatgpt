{
  "cells": [
    {
      "cell_type": "code",
      "execution_count": 1,
      "metadata": {
        "id": "IfgGKBbyxMd-"
      },
      "outputs": [
        {
          "name": "stdout",
          "output_type": "stream",
          "text": [
            "Requirement already satisfied: openai==0.28 in /home/sflores/Develop/Learning/AI/LLMs/chatbots_chatgpt/.venv/lib/python3.10/site-packages (0.28.0)\n",
            "Requirement already satisfied: requests>=2.20 in /home/sflores/Develop/Learning/AI/LLMs/chatbots_chatgpt/.venv/lib/python3.10/site-packages (from openai==0.28) (2.31.0)\n",
            "Requirement already satisfied: tqdm in /home/sflores/Develop/Learning/AI/LLMs/chatbots_chatgpt/.venv/lib/python3.10/site-packages (from openai==0.28) (4.66.1)\n",
            "Requirement already satisfied: aiohttp in /home/sflores/Develop/Learning/AI/LLMs/chatbots_chatgpt/.venv/lib/python3.10/site-packages (from openai==0.28) (3.8.6)\n",
            "Requirement already satisfied: charset-normalizer<4,>=2 in /home/sflores/Develop/Learning/AI/LLMs/chatbots_chatgpt/.venv/lib/python3.10/site-packages (from requests>=2.20->openai==0.28) (3.3.2)\n",
            "Requirement already satisfied: idna<4,>=2.5 in /home/sflores/Develop/Learning/AI/LLMs/chatbots_chatgpt/.venv/lib/python3.10/site-packages (from requests>=2.20->openai==0.28) (3.4)\n",
            "Requirement already satisfied: urllib3<3,>=1.21.1 in /home/sflores/Develop/Learning/AI/LLMs/chatbots_chatgpt/.venv/lib/python3.10/site-packages (from requests>=2.20->openai==0.28) (2.0.7)\n",
            "Requirement already satisfied: certifi>=2017.4.17 in /home/sflores/Develop/Learning/AI/LLMs/chatbots_chatgpt/.venv/lib/python3.10/site-packages (from requests>=2.20->openai==0.28) (2023.7.22)\n",
            "Requirement already satisfied: attrs>=17.3.0 in /home/sflores/Develop/Learning/AI/LLMs/chatbots_chatgpt/.venv/lib/python3.10/site-packages (from aiohttp->openai==0.28) (23.1.0)\n",
            "Requirement already satisfied: multidict<7.0,>=4.5 in /home/sflores/Develop/Learning/AI/LLMs/chatbots_chatgpt/.venv/lib/python3.10/site-packages (from aiohttp->openai==0.28) (6.0.4)\n",
            "Requirement already satisfied: async-timeout<5.0,>=4.0.0a3 in /home/sflores/Develop/Learning/AI/LLMs/chatbots_chatgpt/.venv/lib/python3.10/site-packages (from aiohttp->openai==0.28) (4.0.3)\n",
            "Requirement already satisfied: yarl<2.0,>=1.0 in /home/sflores/Develop/Learning/AI/LLMs/chatbots_chatgpt/.venv/lib/python3.10/site-packages (from aiohttp->openai==0.28) (1.9.2)\n",
            "Requirement already satisfied: frozenlist>=1.1.1 in /home/sflores/Develop/Learning/AI/LLMs/chatbots_chatgpt/.venv/lib/python3.10/site-packages (from aiohttp->openai==0.28) (1.4.0)\n",
            "Requirement already satisfied: aiosignal>=1.1.2 in /home/sflores/Develop/Learning/AI/LLMs/chatbots_chatgpt/.venv/lib/python3.10/site-packages (from aiohttp->openai==0.28) (1.3.1)\n",
            "Note: you may need to restart the kernel to use updated packages.\n"
          ]
        }
      ],
      "source": [
        "pip install openai==0.28"
      ]
    },
    {
      "cell_type": "code",
      "execution_count": 2,
      "metadata": {
        "id": "zCv8DkXaxYK2"
      },
      "outputs": [],
      "source": [
        "import os\n",
        "import openai\n",
        "\n",
        "openai.api_key = os.getenv('OPENAI_API_KEY')"
      ]
    },
    {
      "cell_type": "code",
      "execution_count": 3,
      "metadata": {
        "id": "f-ujtLqUxcIz"
      },
      "outputs": [],
      "source": [
        "import random\n",
        "def get_clue():\n",
        "  words = ['elefante', 'león', 'jirafa', 'hipopótamo', 'mono']\n",
        "  random_word = random.choice(words)\n",
        "  prompt = 'Adivina la palabra que estoy pensando. Es un animal que vive en la selva.'\n",
        "  return prompt, random_word"
      ]
    },
    {
      "cell_type": "code",
      "execution_count": 4,
      "metadata": {
        "id": "BaIB9bbcx2BA"
      },
      "outputs": [],
      "source": [
        "def check_answer(user_input, answer):\n",
        "  return user_input == answer"
      ]
    },
    {
      "cell_type": "code",
      "execution_count": 5,
      "metadata": {
        "id": "xBJkVNacyGEj"
      },
      "outputs": [],
      "source": [
        "def give_property(animal):\n",
        "  response = openai.Completion.create(\n",
        "      engine = 'text-davinci-003',\n",
        "      prompt = 'Dame una característica del animal ' + animal\n",
        "      + ', de al menos 5 palabras, sin incluir la palabra ' + animal + ' en la respuesta',\n",
        "      max_tokens = 100\n",
        "  )\n",
        "  return response.choices[0].text\n",
        "\n",
        "def give_property_2(animal):\n",
        "  response = openai.Completion.create(\n",
        "      engine = 'text-davinci-003',\n",
        "      prompt = \"Estás jugando a adivinar animales, debes dar una característica del animal, pero sin mencionar nunca que animal es\\n\"\n",
        "      +\"\\nReglas: jamás decir el nombre del animal, decir características del animal\\n\"\n",
        "      + \"Dame una característica de: \"+ animal,\n",
        "      max_tokens = 100\n",
        "  )\n",
        "  return response.choices[0].text"
      ]
    },
    {
      "cell_type": "code",
      "execution_count": 6,
      "metadata": {
        "id": "CEY8Xudgyhg0"
      },
      "outputs": [],
      "source": [
        "def play_game():\n",
        "  prompt, answer = get_clue()\n",
        "  print(prompt)\n",
        "  while True:\n",
        "    user_input = input('Ingresa tu respuesta: ')\n",
        "    if check_answer(user_input, answer):\n",
        "      print('Correcto! La respuesta era: ', answer)\n",
        "      break\n",
        "    else:\n",
        "      print('Respuesta incorrecta, Intentalo de nuevo')\n",
        "      print(give_property_2(answer))"
      ]
    },
    {
      "cell_type": "code",
      "execution_count": 7,
      "metadata": {
        "colab": {
          "base_uri": "https://localhost:8080/"
        },
        "id": "XHoKBFREzZR9",
        "outputId": "4c87362f-f429-49c6-d877-31f1e74de52d"
      },
      "outputs": [
        {
          "name": "stdout",
          "output_type": "stream",
          "text": [
            "Adivina la palabra que estoy pensando. Es un animal que vive en la selva.\n",
            "Respuesta incorrecta, Intentalo de nuevo\n",
            "\n",
            "\n",
            "Tiene una melena anaranjada.\n",
            "Respuesta incorrecta, Intentalo de nuevo\n",
            "\n",
            "\n",
            "Tiene una gran crin en el cuello.\n",
            "Respuesta incorrecta, Intentalo de nuevo\n",
            "\n",
            "\n",
            "Tiene una melena en la cabeza.\n",
            "Respuesta incorrecta, Intentalo de nuevo\n",
            "\n",
            "\n",
            "Tiene una gran melena dorada.\n",
            "Respuesta incorrecta, Intentalo de nuevo\n",
            "\n",
            "\n",
            "Tiene una melena oscura y muy frondosa.\n",
            "Respuesta incorrecta, Intentalo de nuevo\n",
            "\n",
            "\n",
            "Tiene una cola muy corta.\n",
            "Respuesta incorrecta, Intentalo de nuevo\n",
            "\n",
            "\n",
            "Es un grande y poderoso carnívoro con una melena en el cuello.\n",
            "Correcto! La respuesta era:  león\n"
          ]
        }
      ],
      "source": [
        "play_game()"
      ]
    }
  ],
  "metadata": {
    "colab": {
      "provenance": []
    },
    "kernelspec": {
      "display_name": "Python 3",
      "name": "python3"
    },
    "language_info": {
      "codemirror_mode": {
        "name": "ipython",
        "version": 3
      },
      "file_extension": ".py",
      "mimetype": "text/x-python",
      "name": "python",
      "nbconvert_exporter": "python",
      "pygments_lexer": "ipython3",
      "version": "3.10.12"
    }
  },
  "nbformat": 4,
  "nbformat_minor": 0
}
